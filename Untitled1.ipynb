{
  "nbformat": 4,
  "nbformat_minor": 0,
  "metadata": {
    "colab": {
      "provenance": []
    },
    "kernelspec": {
      "name": "python3",
      "display_name": "Python 3"
    },
    "language_info": {
      "name": "python"
    }
  },
  "cells": [
    {
      "cell_type": "markdown",
      "source": [],
      "metadata": {
        "id": "cOM1miBGcgm6"
      }
    },
    {
      "cell_type": "code",
      "execution_count": 23,
      "metadata": {
        "colab": {
          "base_uri": "https://localhost:8080/"
        },
        "id": "Mx7ZcGIhMmeE",
        "outputId": "69f28dd3-7a2c-42ff-c094-f6e4b341d866"
      },
      "outputs": [
        {
          "output_type": "stream",
          "name": "stdout",
          "text": [
            "Enter your first name: Yashwanth\n",
            "Enter your last name: Balusa\n",
            "Full Name: Yashwanth Balusa\n",
            "Alternate Characters in Full Name: YswnhBls\n"
          ]
        }
      ],
      "source": [
        "\n",
        "# Define a function to concatenate first_name and last_name into a full name\n",
        "def fullname(first_name, last_name):\n",
        "    full_name = first_name + \" \" + last_name\n",
        "    return full_name\n",
        "\n",
        "# Define a function to return every other character in a given string\n",
        "def string_alternative(full_name):\n",
        "    alternate_chars = \"\"\n",
        "    for i in range(0, len(full_name), 2):\n",
        "        alternate_chars += full_name[i]\n",
        "    return alternate_chars\n",
        "\n",
        "# Main function to collect user input, process it, and display results\n",
        "def main():\n",
        "    # Prompt the user to enter their first name\n",
        "    first_name = input(\"Enter your first name: \")\n",
        "\n",
        "    # Prompt the user to enter their last name\n",
        "    last_name = input(\"Enter your last name: \")\n",
        "\n",
        "    # Call the fullname function to concatenate the first and last names\n",
        "    full_name = fullname(first_name, last_name)\n",
        "\n",
        "    # Display the full name\n",
        "    print(\"Full Name:\", full_name)\n",
        "\n",
        "    # Call the string_alternative function to get alternate characters in the full name\n",
        "    alternate_chars = string_alternative(full_name)\n",
        "\n",
        "    # Display the alternate characters in the full name\n",
        "    print(\"Alternate Characters in Full Name:\", alternate_chars)\n",
        "\n",
        "# Check if the script is run as the main program\n",
        "if __name__ == \"__main__\":\n",
        "    main()"
      ]
    },
    {
      "cell_type": "code",
      "source": [
        "from collections import Counter\n",
        "\n",
        "# Reading input from input.txt\n",
        "with open('/input.txt', 'r') as file:\n",
        "    lines = file.readlines()\n",
        "\n",
        "# Processing each line and count words\n",
        "wordcountperline = []\n",
        "\n",
        "for line in lines:\n",
        "    words = line.strip().split()\n",
        "    wordcountperline.append(Counter(words))\n",
        "\n",
        "# Printing the lines\n",
        "for line in lines:\n",
        "    print(line.strip())\n",
        "\n",
        "# Printing word counts for each word\n",
        "print(\"Word_Count:\")\n",
        "for word, count in Counter(word for wc in wordcountperline for word in wc).items():\n",
        "    print(f\"{word}: {count}\")\n",
        "\n",
        "# Storing the output in output.txt\n",
        "with open('output.txt', 'w') as output_file:\n",
        "    for line in lines:\n",
        "        output_file.write(line)\n",
        "    output_file.write(\"Word_Count:\\n\")\n",
        "    for word, count in Counter(word for wc in wordcountperline for word in wc).items():\n",
        "        output_file.write(f\"{word}: {count}\\n\")\n",
        ""
      ],
      "metadata": {
        "colab": {
          "base_uri": "https://localhost:8080/"
        },
        "id": "gsKu61FoSaO1",
        "outputId": "78c6e9b6-f73d-4adc-d4a1-07a3d091f45c"
      },
      "execution_count": 24,
      "outputs": [
        {
          "output_type": "stream",
          "name": "stdout",
          "text": [
            "Python Course\n",
            "Deep Learning Course\n",
            "Word_Count:\n",
            "Python: 1\n",
            "Course: 2\n",
            "Deep: 1\n",
            "Learning: 1\n"
          ]
        }
      ]
    },
    {
      "cell_type": "code",
      "source": [
        "import ast\n",
        "\n",
        "def centimeters_to_inches(centimeters):\n",
        "    return centimeters / 2.54\n",
        "\n",
        "# Function to read a list of heights from user input\n",
        "def get_heights():\n",
        "    input_string = input(\"Enter a list of heights in centimeters: \")\n",
        "    try:\n",
        "        # Safely evaluate the input string to a list\n",
        "        heights = ast.literal_eval(input_string)\n",
        "        if isinstance(heights, list) and all(isinstance(height, int) for height in heights):\n",
        "            return heights\n",
        "        else:\n",
        "            raise ValueError\n",
        "    except (ValueError, SyntaxError):\n",
        "        print(\"Invalid input. Please enter a valid list of integers.\")\n",
        "        return []\n",
        "\n",
        "# Read heights from user\n",
        "heights_cm = get_heights()\n",
        "\n",
        "# Convert to inches using a nested loop\n",
        "heights_in_inches_loop = []\n",
        "for height in heights_cm:\n",
        "    inches = centimeters_to_inches(height)\n",
        "    heights_in_inches_loop.append(round(inches, 2))\n",
        "\n",
        "# Convert to inches using list comprehension\n",
        "heights_in_inches_comprehension = [round(centimeters_to_inches(height), 2) for height in heights_cm]\n",
        "\n",
        "# Output\n",
        "print(\"Heights in Inches (Nested Loop):\", heights_in_inches_loop)\n",
        "print(\"Heights in Inches (List Comprehension):\", heights_in_inches_comprehension)"
      ],
      "metadata": {
        "colab": {
          "base_uri": "https://localhost:8080/"
        },
        "id": "Qw5bh6y_TTDN",
        "outputId": "d70ed292-4c55-4a31-cdda-25777a5f68f8"
      },
      "execution_count": 27,
      "outputs": [
        {
          "output_type": "stream",
          "name": "stdout",
          "text": [
            "Enter a list of heights in centimeters: [12,26,34]\n",
            "Heights in Inches (Nested Loop): [4.72, 10.24, 13.39]\n",
            "Heights in Inches (List Comprehension): [4.72, 10.24, 13.39]\n"
          ]
        }
      ]
    }
  ]
}